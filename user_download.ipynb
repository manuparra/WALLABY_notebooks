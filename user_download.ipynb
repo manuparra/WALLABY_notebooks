{
 "cells": [
  {
   "cell_type": "markdown",
   "id": "935cdfea",
   "metadata": {},
   "source": [
    "# WALLABY user download notebook\n",
    "\n",
    "A notebook pre-filled with cells and scripts for downloading WALLABY internal release data. The notebook has the following sections\n",
    "\n",
    "1. Connect to the database\n",
    "2. Get release table\n",
    "3. Export data\n",
    "\n",
    "<span style=\"font-weight: bold; color: #FF0000;\">⚠ Make sure the Jupyter Notebook server is loaded with the wallaby/python-3.9.1 module!</span>\n",
    "\n",
    "<span style=\"font-weight: bold; color: #FF0000;\">⚠ If the Jupyter Notebook server is not loaded with the wallaby/python-3.9.1 delete the interactive session and start a new one with the correct module.</span>"
   ]
  },
  {
   "cell_type": "markdown",
   "id": "7dd0cc98-4b05-447c-aa33-3d27a84251d1",
   "metadata": {},
   "source": [
    "---"
   ]
  },
  {
   "cell_type": "markdown",
   "id": "ae97b278",
   "metadata": {},
   "source": [
    "# 1. Connect\n",
    "\n",
    "Establish a connection to the database with the `wallaby_data_access` module, available on PyPI [https://pypi.org/project/wallaby-data-access/](https://pypi.org/project/wallaby-data-access/)."
   ]
  },
  {
   "cell_type": "code",
   "execution_count": null,
   "id": "5630c448-e003-4ae0-9efc-bfef293568a0",
   "metadata": {},
   "outputs": [],
   "source": [
    "# relevant libraries\n",
    "\n",
    "import os\n",
    "import wallaby_data_access as wallaby\n",
    "from astropy.table import Table"
   ]
  },
  {
   "cell_type": "code",
   "execution_count": null,
   "id": "02fa923a-3661-41ba-bc40-6221fb5f98f0",
   "metadata": {},
   "outputs": [],
   "source": [
    "# connect to the database\n",
    "\n",
    "wallaby.connect()"
   ]
  },
  {
   "cell_type": "markdown",
   "id": "779d7182-dc06-40ee-a177-f281f22c1086",
   "metadata": {},
   "source": [
    "---"
   ]
  },
  {
   "cell_type": "markdown",
   "id": "6d8af3de",
   "metadata": {},
   "source": [
    "# 2. Get release table\n",
    "\n",
    "The intention for this notebook is to allow users to easily download all of the products and properties for all sources of a given tag. We start by listing the available tags in the cell below."
   ]
  },
  {
   "cell_type": "code",
   "execution_count": null,
   "id": "92bb2bbb",
   "metadata": {},
   "outputs": [],
   "source": [
    "# Get all tags\n",
    "\n",
    "wallaby.print_tags()"
   ]
  },
  {
   "cell_type": "code",
   "execution_count": null,
   "id": "65dfe2d9",
   "metadata": {},
   "outputs": [],
   "source": [
    "# Select the tag\n",
    "# Currently only data tagged NGC 5044 DR1 is available through this system.\n",
    "\n",
    "tag_name = \"NGC 5044 DR1\""
   ]
  },
  {
   "cell_type": "code",
   "execution_count": null,
   "id": "aac09df6-aa7a-4069-83c1-01946cfe2057",
   "metadata": {},
   "outputs": [],
   "source": [
    "# Retrieve catalogue as Astropy table\n",
    "\n",
    "table = wallaby.get_catalog(\"NGC 5044 DR1\")\n",
    "\n",
    "# Sort table by flux (brightest first)\n",
    "table.sort(\"f_sum\", reverse=True)\n",
    "\n",
    "# Print table\n",
    "table.pprint()"
   ]
  },
  {
   "cell_type": "markdown",
   "id": "9e5d96a9-4945-49c8-ad04-f7dc33bafbfe",
   "metadata": {},
   "source": [
    "---"
   ]
  },
  {
   "cell_type": "markdown",
   "id": "a55d6f8d",
   "metadata": {},
   "source": [
    "# 3. Export data\n"
   ]
  },
  {
   "cell_type": "markdown",
   "id": "03b046a2-abd2-4795-b519-1e92d29cd1a6",
   "metadata": {},
   "source": [
    "## Table\n",
    "It is convenient to write `astropy` Table objects to a number of file formats. The documentation for `write` can be found [here](https://docs.astropy.org/en/stable/io/ascii/write.html). Below we show how to export the table as a `.fits` file."
   ]
  },
  {
   "cell_type": "code",
   "execution_count": null,
   "id": "606fc291",
   "metadata": {},
   "outputs": [],
   "source": [
    "# Write table to fits file\n",
    "\n",
    "catalog_filename = \"%s_catalog.fits\" % tag_name.replace(' ', '_')\n",
    "\n",
    "if not os.path.exists(catalog_filename):\n",
    "    wallaby.save_catalog(tag_name, catalog_filename, format = 'fits')"
   ]
  },
  {
   "cell_type": "markdown",
   "id": "1e5711c1-928d-4a93-918e-355d5949a735",
   "metadata": {},
   "source": [
    "## Output products\n",
    "\n",
    "We can store the source finding output products for a source, or the entire release. In the cells below we show how to do this."
   ]
  },
  {
   "cell_type": "code",
   "execution_count": null,
   "id": "278faf65-85e4-445b-b51c-dcd2540832bf",
   "metadata": {},
   "outputs": [],
   "source": [
    "# Write output products for a source\n",
    "\n",
    "source_name = 'WALLABY J134002-252831'\n",
    "wallaby.save_products_for_source(tag_name, source_name)"
   ]
  },
  {
   "cell_type": "code",
   "execution_count": null,
   "id": "15691ab7-3890-42fd-8ae3-73a83c4bed10",
   "metadata": {},
   "outputs": [],
   "source": [
    "# Write all output products for tagged sources\n",
    "\n",
    "wallaby.save_products(tag_name)"
   ]
  },
  {
   "cell_type": "markdown",
   "id": "8d27982b-904f-4ad4-80e7-a863f449e240",
   "metadata": {},
   "source": [
    "## Overview plots\n",
    "\n",
    "An overview plot allows for a quick visual inspection of the source. It will show the moment 0, moment 1 maps, DSS image and spectra for a source in a single figure. The first cell below will show you one of these overview plots, and the second will store the overview plots for the tagged sources in a zipped file. Note that saving all of the plots will take a significant time (~ 1 hour)."
   ]
  },
  {
   "cell_type": "code",
   "execution_count": null,
   "id": "95a61f9c-07ac-410b-836c-cee998df923d",
   "metadata": {},
   "outputs": [],
   "source": [
    "# show overview plot\n",
    "\n",
    "%matplotlib inline\n",
    "\n",
    "idx = list(table['name']).index(source_name)\n",
    "row = table[idx]\n",
    "plt = wallaby.overview_plot(row['id'])\n",
    "plt.show()"
   ]
  },
  {
   "cell_type": "code",
   "execution_count": null,
   "id": "06c6b6ca-df28-40cf-acf3-6554fcd1ce45",
   "metadata": {},
   "outputs": [],
   "source": [
    "import warnings\n",
    "warnings.filterwarnings(\"ignore\")\n",
    "\n",
    "wallaby.save_overview(tag_name)"
   ]
  },
  {
   "cell_type": "code",
   "execution_count": null,
   "id": "8061eaab-5937-4da3-be26-0d582af809c1",
   "metadata": {},
   "outputs": [],
   "source": []
  }
 ],
 "metadata": {
  "kernelspec": {
   "display_name": "Python 3 (ipykernel)",
   "language": "python",
   "name": "python3"
  },
  "language_info": {
   "codemirror_mode": {
    "name": "ipython",
    "version": 3
   },
   "file_extension": ".py",
   "mimetype": "text/x-python",
   "name": "python",
   "nbconvert_exporter": "python",
   "pygments_lexer": "ipython3",
   "version": "3.8.12"
  }
 },
 "nbformat": 4,
 "nbformat_minor": 5
}
